{
 "cells": [
  {
   "cell_type": "markdown",
   "id": "f7d1e61f-84aa-4e7e-913c-c3549e608c6c",
   "metadata": {},
   "source": [
    "# Data Science Tools and Ecosystem"
   ]
  },
  {
   "cell_type": "markdown",
   "id": "8ff2b593-da8a-40b6-8f3a-54dad2e3ad1b",
   "metadata": {},
   "source": [
    "## Author\n",
    "Kumar Nishant"
   ]
  },
  {
   "cell_type": "markdown",
   "id": "daa95555-53c6-42fd-8e86-cb516ae85f4b",
   "metadata": {},
   "source": [
    "In this notebook, Data Science Tools and Ecosystem are summarized."
   ]
  },
  {
   "cell_type": "markdown",
   "id": "445fbe9e-73e0-4151-ac25-ec08a6270561",
   "metadata": {},
   "source": [
    "**Objectives:**\n",
    "- Learn about popular programming languages in Data Science \n",
    "- Learn about popular open-source tools in Data Science\n",
    "- Learn about Markdown\n",
    "- Learn about Jupyter Notebook"
   ]
  },
  {
   "cell_type": "markdown",
   "id": "e5f8bbc7-46fb-423c-9b6c-7d09ae994265",
   "metadata": {},
   "source": [
    "Some of the popular languages that Data Scientists use are:\n",
    "1. Python \n",
    "2. R \n",
    "3. Julia"
   ]
  },
  {
   "cell_type": "markdown",
   "id": "968b1c18-408b-43c5-816a-3b7ee76036a4",
   "metadata": {},
   "source": [
    "Some of the commonly used libraries used by Data Scientists include:\n",
    "1. NumPy\n",
    "2. Pandas\n",
    "3. Scikit-learn"
   ]
  },
  {
   "cell_type": "markdown",
   "id": "fba1f33b-a64d-4dcb-ba93-c4da9eb9a20a",
   "metadata": {},
   "source": [
    "| Data Science Tools |\n",
    "| -------- |\n",
    "| Jupyter Notebook |\n",
    "| Google Colab |\n",
    "| Kaggle |\n"
   ]
  },
  {
   "cell_type": "markdown",
   "id": "918d8560-3b82-40e4-9f5c-8e01eb09085a",
   "metadata": {},
   "source": [
    "### Below are a few examples of evaluating arithmetic expressions in Python.\n"
   ]
  },
  {
   "cell_type": "code",
   "execution_count": 2,
   "id": "c65a90fa-2bca-4dd1-a7c3-4543de3f7c19",
   "metadata": {},
   "outputs": [
    {
     "data": {
      "text/plain": [
       "17"
      ]
     },
     "execution_count": 2,
     "metadata": {},
     "output_type": "execute_result"
    }
   ],
   "source": [
    "# This a simple arithmetic expression to mutiply then add integers.\n",
    "(3*4)+5\n"
   ]
  },
  {
   "cell_type": "code",
   "execution_count": 5,
   "id": "18eaf762-8ffc-4fae-84f6-c5f612d6a304",
   "metadata": {},
   "outputs": [
    {
     "data": {
      "text/plain": [
       "3.3333333333333335"
      ]
     },
     "execution_count": 5,
     "metadata": {},
     "output_type": "execute_result"
    }
   ],
   "source": [
    "# This will convert 200 minutes to hours by diving by 60\n",
    "minutes = 200\n",
    "hours = minutes / 60 \n",
    "hours"
   ]
  }
 ],
 "metadata": {
  "kernelspec": {
   "display_name": "Python 3 (ipykernel)",
   "language": "python",
   "name": "python3"
  },
  "language_info": {
   "codemirror_mode": {
    "name": "ipython",
    "version": 3
   },
   "file_extension": ".py",
   "mimetype": "text/x-python",
   "name": "python",
   "nbconvert_exporter": "python",
   "pygments_lexer": "ipython3",
   "version": "3.12.5"
  }
 },
 "nbformat": 4,
 "nbformat_minor": 5
}
